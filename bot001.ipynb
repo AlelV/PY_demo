{
  "nbformat": 4,
  "nbformat_minor": 0,
  "metadata": {
    "colab": {
      "name": "Копия блокнота \"Копия блокнота \"Копия блокнота \"Питон3ЧатБот.ipynb\"\"\"",
      "provenance": [],
      "collapsed_sections": [],
      "include_colab_link": true
    },
    "kernelspec": {
      "name": "python3",
      "display_name": "Python 3"
    }
  },
  "cells": [
    {
      "cell_type": "markdown",
      "metadata": {
        "id": "view-in-github",
        "colab_type": "text"
      },
      "source": [
        "<a href=\"https://colab.research.google.com/github/AlelV/PY_demo/blob/master/bot001.ipynb\" target=\"_parent\"><img src=\"https://colab.research.google.com/assets/colab-badge.svg\" alt=\"Open In Colab\"/></a>"
      ]
    },
    {
      "cell_type": "code",
      "metadata": {
        "id": "UxIk10D6siSL",
        "colab_type": "code",
        "colab": {}
      },
      "source": [
        "import random\n",
        "import nltk"
      ],
      "execution_count": null,
      "outputs": []
    },
    {
      "cell_type": "code",
      "metadata": {
        "id": "6xNHxhxBiDT3",
        "colab_type": "code",
        "colab": {}
      },
      "source": [
        "BOT_CONFIG = {\n",
        "    'intents':{\n",
        "         'hello':{\n",
        "            'examples':['Привет'],\n",
        "            'responses':['Здарова','Здарова-корова','Привет, чел','Здравствуй, человек']\n",
        "           },\n",
        "         'by':{\n",
        "             'examples':['Пока'],\n",
        "            'responses':['Давай']\n",
        "   }},\n",
        "      'failure_phrases':['Ничего не понятно','Уточните, пжста','Я устал','Отвали']\n",
        "}"
      ],
      "execution_count": null,
      "outputs": []
    },
    {
      "cell_type": "code",
      "metadata": {
        "id": "xOQOwRrilUPU",
        "colab_type": "code",
        "colab": {}
      },
      "source": [
        ""
      ],
      "execution_count": null,
      "outputs": []
    },
    {
      "cell_type": "code",
      "metadata": {
        "id": "WjeroLGWjWUK",
        "colab_type": "code",
        "colab": {}
      },
      "source": [
        "def bot(request):\n",
        "  intent = get_intent(request)\n",
        "  if intent:\n",
        "    return get_response_by_intent(intent)\n",
        "    \n",
        "  response = get_response_by_generatively(request)\n",
        "  if response:\n",
        "    return response\n",
        "\n",
        "  return get_failure_phrase()   \n"
      ],
      "execution_count": null,
      "outputs": []
    },
    {
      "cell_type": "code",
      "metadata": {
        "id": "CCgdoGNIjbBG",
        "colab_type": "code",
        "colab": {}
      },
      "source": [
        "def get_intent(text):\n",
        "  for intent, intent_data in BOT_CONFIG['intents'].items():\n",
        "     text = clear_text(text);\n",
        "     for example in intent_data['examples']:\n",
        "      \n",
        "       example = clear_text(example);\n",
        "\n",
        "       distance = nltk.edit_distance(text,example)\n",
        "      # print(text, example, distance)\n",
        "       if distance/len(example)<0.4: \n",
        "        return intent        \n",
        "  "
      ],
      "execution_count": null,
      "outputs": []
    },
    {
      "cell_type": "code",
      "metadata": {
        "id": "CTZsklCdFzpK",
        "colab_type": "code",
        "colab": {}
      },
      "source": [
        "def clear_text(text):\n",
        "  text=text.lower()\n",
        "  alph='йцукенгшщзхъэждлорпавыфячсмитьбю0123456789-qwertyuiopasdfghjklzxcvbnm '\n",
        "  result = ''\n",
        "  for c in text:\n",
        "    if c in alph:\n",
        "      result+=c\n",
        "  return result\n",
        "\n"
      ],
      "execution_count": null,
      "outputs": []
    },
    {
      "cell_type": "code",
      "metadata": {
        "id": "LZ0qCS4sptCk",
        "colab_type": "code",
        "colab": {}
      },
      "source": [
        "def get_response_by_intent(intent):\n",
        "  phrases = BOT_CONFIG['intents'][intent]['responses']\n",
        "  return random.choice(phrases)"
      ],
      "execution_count": null,
      "outputs": []
    },
    {
      "cell_type": "code",
      "metadata": {
        "id": "m67_TP_2pWuP",
        "colab_type": "code",
        "colab": {}
      },
      "source": [
        "def get_response_by_generatively(request):\n",
        "  return\n"
      ],
      "execution_count": null,
      "outputs": []
    },
    {
      "cell_type": "code",
      "metadata": {
        "id": "Y1moSrnLq6hm",
        "colab_type": "code",
        "colab": {}
      },
      "source": [
        "def get_failure_phrase():\n",
        "  phrases = BOT_CONFIG['failure_phrases']\n",
        "  return random.choice(phrases)\n",
        "   \n",
        "  "
      ],
      "execution_count": null,
      "outputs": []
    },
    {
      "cell_type": "code",
      "metadata": {
        "id": "WsEKcsSsvotK",
        "colab_type": "code",
        "colab": {
          "base_uri": "https://localhost:8080/",
          "height": 35
        },
        "outputId": "8190cb34-5877-42c9-ba78-196fa6a06e60"
      },
      "source": [
        "bot('пака')"
      ],
      "execution_count": null,
      "outputs": [
        {
          "output_type": "execute_result",
          "data": {
            "application/vnd.google.colaboratory.intrinsic+json": {
              "type": "string"
            },
            "text/plain": [
              "'Давай'"
            ]
          },
          "metadata": {
            "tags": []
          },
          "execution_count": 20
        }
      ]
    }
  ]
}