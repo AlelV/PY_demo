{
  "nbformat": 4,
  "nbformat_minor": 0,
  "metadata": {
    "colab": {
      "name": "Bot_day3.ipynb",
      "provenance": [],
      "collapsed_sections": [],
      "include_colab_link": true
    },
    "kernelspec": {
      "name": "python3",
      "display_name": "Python 3"
    }
  },
  "cells": [
    {
      "cell_type": "markdown",
      "metadata": {
        "id": "view-in-github",
        "colab_type": "text"
      },
      "source": [
        "<a href=\"https://colab.research.google.com/github/AlelV/PY_demo/blob/master/Bot_day3.ipynb\" target=\"_parent\"><img src=\"https://colab.research.google.com/assets/colab-badge.svg\" alt=\"Open In Colab\"/></a>"
      ]
    },
    {
      "cell_type": "code",
      "metadata": {
        "id": "UxIk10D6siSL"
      },
      "source": [
        "import nltk"
      ],
      "execution_count": 24,
      "outputs": []
    },
    {
      "cell_type": "code",
      "metadata": {
        "id": "6iHLTASlTmPm",
        "outputId": "87e60695-c33d-4861-b5af-28bc01bc9e66",
        "colab": {
          "base_uri": "https://localhost:8080/",
          "height": 34
        }
      },
      "source": [
        "from google.colab import drive\n",
        "drive.mount('/content/drive')"
      ],
      "execution_count": 25,
      "outputs": [
        {
          "output_type": "stream",
          "text": [
            "Drive already mounted at /content/drive; to attempt to forcibly remount, call drive.mount(\"/content/drive\", force_remount=True).\n"
          ],
          "name": "stdout"
        }
      ]
    },
    {
      "cell_type": "code",
      "metadata": {
        "id": "Vxb5H8nl7CEd",
        "outputId": "15232b3e-697d-4d85-cc5d-4a26b6585480",
        "colab": {
          "base_uri": "https://localhost:8080/",
          "height": 51
        }
      },
      "source": [
        "with open('/content/drive/My Drive/dialogues.txt') as f:\n",
        "  content = f.read()\n",
        "  print(len(content))\n",
        "  blocs= content.split('\\n\\n')\n",
        "  print(len(blocs))\n"
      ],
      "execution_count": 26,
      "outputs": [
        {
          "output_type": "stream",
          "text": [
            "81979342\n",
            "1034007\n"
          ],
          "name": "stdout"
        }
      ]
    },
    {
      "cell_type": "code",
      "metadata": {
        "id": "CTZsklCdFzpK"
      },
      "source": [
        "def clear_text(text):\n",
        "  text=text.lower()\n",
        "  alph='йцукенгшщзхъэждлорпавыфячсмитьбю0123456789-qwertyuiopasdfghjklzxcvbnm '\n",
        "  result = ''\n",
        "  for c in text:\n",
        "    if c in alph:\n",
        "      result+=c\n",
        "  return result\n",
        "\n"
      ],
      "execution_count": 27,
      "outputs": []
    },
    {
      "cell_type": "code",
      "metadata": {
        "id": "QeU9yA6zh0pV"
      },
      "source": [
        "dataset = []\n",
        "questions = set()\n",
        "\n",
        "for block in blocs:\n",
        " replicas = block.split('\\n')[:2]\n",
        " if len(replicas) == 2:\n",
        "    question = clear_text(replicas[0][2:])\n",
        "    answer = clear_text(replicas[1][2:]) \n",
        "    if question and answer and question not in questions: \n",
        "      questions.add(question)\n",
        "      dataset.append([question,answer])\n"
      ],
      "execution_count": 28,
      "outputs": []
    },
    {
      "cell_type": "markdown",
      "metadata": {
        "id": "vokSLaDUTZS5"
      },
      "source": [
        "# Новый раздел"
      ]
    },
    {
      "cell_type": "code",
      "metadata": {
        "id": "XWzeT5wCAoXb",
        "outputId": "0bfcb90a-ff1c-4aeb-82ef-20f699034c00",
        "colab": {
          "base_uri": "https://localhost:8080/",
          "height": 34
        }
      },
      "source": [
        "len(dataset)"
      ],
      "execution_count": 31,
      "outputs": [
        {
          "output_type": "execute_result",
          "data": {
            "text/plain": [
              "605036"
            ]
          },
          "metadata": {
            "tags": []
          },
          "execution_count": 31
        }
      ]
    },
    {
      "cell_type": "code",
      "metadata": {
        "id": "m67_TP_2pWuP"
      },
      "source": [
        "def get_response_by_generatively(text):\n",
        "  text = clear_text(text)\n",
        "  if not text:\n",
        "    return\n",
        "  for question, answer in dataset:\n",
        "    distance = nltk.edit_distance(text,question)\n",
        "    if distance/len(question)<0.4:\n",
        "      return answer\n",
        "\n",
        "  return\n"
      ],
      "execution_count": 33,
      "outputs": []
    },
    {
      "cell_type": "code",
      "metadata": {
        "id": "L_JTFdCtArKn",
        "outputId": "43309828-37a7-4826-e4a4-95d6272633be",
        "colab": {
          "base_uri": "https://localhost:8080/",
          "height": 35
        }
      },
      "source": [
        "get_response_by_generatively(\"да\")"
      ],
      "execution_count": 48,
      "outputs": [
        {
          "output_type": "execute_result",
          "data": {
            "application/vnd.google.colaboratory.intrinsic+json": {
              "type": "string"
            },
            "text/plain": [
              "'она заходила подкраситься или позвонить'"
            ]
          },
          "metadata": {
            "tags": []
          },
          "execution_count": 48
        }
      ]
    }
  ]
}