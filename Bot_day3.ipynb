{
  "nbformat": 4,
  "nbformat_minor": 0,
  "metadata": {
    "colab": {
      "name": "Bot_day3.ipynb",
      "provenance": [],
      "collapsed_sections": [],
      "toc_visible": true,
      "include_colab_link": true
    },
    "kernelspec": {
      "name": "python3",
      "display_name": "Python 3"
    }
  },
  "cells": [
    {
      "cell_type": "markdown",
      "metadata": {
        "id": "view-in-github",
        "colab_type": "text"
      },
      "source": [
        "<a href=\"https://colab.research.google.com/github/AlelV/PY_demo/blob/master/Bot_day3.ipynb\" target=\"_parent\"><img src=\"https://colab.research.google.com/assets/colab-badge.svg\" alt=\"Open In Colab\"/></a>"
      ]
    },
    {
      "cell_type": "code",
      "metadata": {
        "id": "UxIk10D6siSL"
      },
      "source": [
        "import nltk"
      ],
      "execution_count": 19,
      "outputs": []
    },
    {
      "cell_type": "code",
      "metadata": {
        "id": "6iHLTASlTmPm",
        "outputId": "7d466efc-a9ef-44a4-e57a-7007d41ff893",
        "colab": {
          "base_uri": "https://localhost:8080/",
          "height": 54
        }
      },
      "source": [
        "from google.colab import drive\n",
        "drive.mount('/content/drive')"
      ],
      "execution_count": 20,
      "outputs": [
        {
          "output_type": "stream",
          "text": [
            "Drive already mounted at /content/drive; to attempt to forcibly remount, call drive.mount(\"/content/drive\", force_remount=True).\n"
          ],
          "name": "stdout"
        }
      ]
    },
    {
      "cell_type": "code",
      "metadata": {
        "id": "Vxb5H8nl7CEd",
        "outputId": "c7b32b0f-c40e-463f-afbf-6a7fc8bf8049",
        "colab": {
          "base_uri": "https://localhost:8080/",
          "height": 51
        }
      },
      "source": [
        "with open('/content/drive/My Drive/dataset/dialogues.txt') as f:\n",
        "  content = f.read()\n",
        "  print(len(content))\n",
        "  blocs= content.split('\\n\\n')\n",
        "  print(len(blocs))\n"
      ],
      "execution_count": 21,
      "outputs": [
        {
          "output_type": "stream",
          "text": [
            "81979342\n",
            "1034007\n"
          ],
          "name": "stdout"
        }
      ]
    },
    {
      "cell_type": "code",
      "metadata": {
        "id": "CTZsklCdFzpK"
      },
      "source": [
        "def clear_text(text):\n",
        "  text=text.lower()\n",
        "  alph='йцукенгшщзхъэждлорпавыфячсмитьбю0123456789-qwertyuiopasdfghjklzxcvbnm '\n",
        "  result = ''\n",
        "  for c in text:\n",
        "    if c in alph:\n",
        "      result+=c\n",
        "  return result\n",
        "\n"
      ],
      "execution_count": 22,
      "outputs": []
    },
    {
      "cell_type": "code",
      "metadata": {
        "id": "QeU9yA6zh0pV"
      },
      "source": [
        "dataset = []\n",
        "questions = set()\n",
        "\n",
        "for block in blocs:\n",
        " replicas = block.split('\\n')[:2]\n",
        " if len(replicas) == 2:\n",
        "    question = clear_text(replicas[0][2:])\n",
        "    answer = clear_text(replicas[1][2:]) \n",
        "    if question and answer and question not in questions: \n",
        "      questions.add(question)\n",
        "      dataset.append([question,answer])\n"
      ],
      "execution_count": 18,
      "outputs": []
    },
    {
      "cell_type": "markdown",
      "metadata": {
        "id": "vokSLaDUTZS5"
      },
      "source": [
        "# Новый раздел"
      ]
    },
    {
      "cell_type": "code",
      "metadata": {
        "id": "XWzeT5wCAoXb",
        "outputId": "c868bf2a-571a-4024-89e6-0f52f3cb4a9f",
        "colab": {
          "base_uri": "https://localhost:8080/",
          "height": 34
        }
      },
      "source": [
        "len(dataset)"
      ],
      "execution_count": 23,
      "outputs": [
        {
          "output_type": "execute_result",
          "data": {
            "text/plain": [
              "605036"
            ]
          },
          "metadata": {
            "tags": []
          },
          "execution_count": 23
        }
      ]
    },
    {
      "cell_type": "code",
      "metadata": {
        "id": "DZDIsgJiSYTK"
      },
      "source": [
        "searche_dataset = {}\n",
        "for question, answer in dataset:\n",
        "  words = question.split(\" \")\n",
        "  \n",
        "  for word in words:\n",
        "    if word is not searche_dataset:\n",
        "      searche_dataset[word]=[]\n",
        "\n",
        "    searche_dataset[word].append([question, answer])\n"
      ],
      "execution_count": 29,
      "outputs": []
    },
    {
      "cell_type": "code",
      "metadata": {
        "id": "m67_TP_2pWuP"
      },
      "source": [
        "def get_response_by_generatively(text):\n",
        "  text = clear_text(text)\n",
        "  if not text:\n",
        "    return\n",
        "\n",
        "  words = text.split(\" \")\n",
        "  for word in words:\n",
        "    if word in searche_dataset:\n",
        "      word_dataset = searche_dataset[word]\n",
        "      print(word_dataset,len(word))\n",
        "      for question, answer in word_dataset:\n",
        "        distance = nltk.edit_distance(text,question)\n",
        "        if distance/len(question) < 1.4:\n",
        "          \n",
        "          return (question, answer)\n",
        "\n",
        "  return\n"
      ],
      "execution_count": 55,
      "outputs": []
    },
    {
      "cell_type": "markdown",
      "metadata": {
        "id": "ywCP8k7TwTnF"
      },
      "source": [
        "# Новый раздел"
      ]
    },
    {
      "cell_type": "markdown",
      "metadata": {
        "id": "c016Q-TVwUP0"
      },
      "source": [
        "# Новый раздел"
      ]
    },
    {
      "cell_type": "code",
      "metadata": {
        "id": "dN6gnVkr9cYH",
        "outputId": "f4e12ec5-20e8-4eca-c721-f5913f6541d9",
        "colab": {
          "base_uri": "https://localhost:8080/",
          "height": 51
        }
      },
      "source": [
        "get_response_by_generatively('Ты проходил Контекст?')"
      ],
      "execution_count": 57,
      "outputs": [
        {
          "output_type": "stream",
          "text": [
            "[['ты что же собирался убить ее', 'разумеется за то что она убила тебя']] 2\n"
          ],
          "name": "stdout"
        },
        {
          "output_type": "execute_result",
          "data": {
            "text/plain": [
              "('ты что же собирался убить ее', 'разумеется за то что она убила тебя')"
            ]
          },
          "metadata": {
            "tags": []
          },
          "execution_count": 57
        }
      ]
    },
    {
      "cell_type": "code",
      "metadata": {
        "id": "tJ7YzhKwhQu5"
      },
      "source": [
        "get_response_by_generatively('Ты проходил Контекст?')"
      ],
      "execution_count": null,
      "outputs": []
    },
    {
      "cell_type": "code",
      "metadata": {
        "id": "bI-hMsTuZO5s",
        "outputId": "acb48628-cecb-4b47-90ea-4253c4641f5d",
        "colab": {
          "base_uri": "https://localhost:8080/",
          "height": 51
        }
      },
      "source": [
        "get_response_by_generatively('Привет, бот')"
      ],
      "execution_count": 58,
      "outputs": [
        {
          "output_type": "stream",
          "text": [
            "[['привет дон', 'ну как жизнь']] 6\n"
          ],
          "name": "stdout"
        },
        {
          "output_type": "execute_result",
          "data": {
            "text/plain": [
              "('привет дон', 'ну как жизнь')"
            ]
          },
          "metadata": {
            "tags": []
          },
          "execution_count": 58
        }
      ]
    },
    {
      "cell_type": "code",
      "metadata": {
        "id": "xTYO_3x8Zkse",
        "outputId": "00e0b053-d211-4def-ace6-161f01df290d",
        "colab": {
          "base_uri": "https://localhost:8080/",
          "height": 51
        }
      },
      "source": [
        "get_response_by_generatively('как ты?')"
      ],
      "execution_count": 59,
      "outputs": [
        {
          "output_type": "stream",
          "text": [
            "[['у тебя славный сын моргауза как его зовут', 'гавейн']] 3\n"
          ],
          "name": "stdout"
        },
        {
          "output_type": "execute_result",
          "data": {
            "text/plain": [
              "('у тебя славный сын моргауза как его зовут', 'гавейн')"
            ]
          },
          "metadata": {
            "tags": []
          },
          "execution_count": 59
        }
      ]
    },
    {
      "cell_type": "code",
      "metadata": {
        "id": "L_JTFdCtArKn",
        "outputId": "41d7fa5c-afb4-4a12-90d9-87d952183d31",
        "colab": {
          "base_uri": "https://localhost:8080/",
          "height": 51
        }
      },
      "source": [
        "get_response_by_generatively(\"ты кто по проффесии?\")"
      ],
      "execution_count": 60,
      "outputs": [
        {
          "output_type": "stream",
          "text": [
            "[['ты что же собирался убить ее', 'разумеется за то что она убила тебя']] 2\n"
          ],
          "name": "stdout"
        },
        {
          "output_type": "execute_result",
          "data": {
            "text/plain": [
              "('ты что же собирался убить ее', 'разумеется за то что она убила тебя')"
            ]
          },
          "metadata": {
            "tags": []
          },
          "execution_count": 60
        }
      ]
    },
    {
      "cell_type": "code",
      "metadata": {
        "id": "8cgCPCenaRLT",
        "outputId": "26ad1059-36ed-46ff-ea45-6bcad6fc2662",
        "colab": {
          "base_uri": "https://localhost:8080/",
          "height": 51
        }
      },
      "source": [
        "get_response_by_generatively('Вот как, интересно')"
      ],
      "execution_count": 61,
      "outputs": [
        {
          "output_type": "stream",
          "text": [
            "[['вот выпей тебе станет легче нет нет пока ни слова', 'полегчало']] 3\n"
          ],
          "name": "stdout"
        },
        {
          "output_type": "execute_result",
          "data": {
            "text/plain": [
              "('вот выпей тебе станет легче нет нет пока ни слова', 'полегчало')"
            ]
          },
          "metadata": {
            "tags": []
          },
          "execution_count": 61
        }
      ]
    },
    {
      "cell_type": "code",
      "metadata": {
        "id": "nB3M4pOccE7x",
        "outputId": "e9a3176c-5273-4bef-cf07-0ac9c24608e5",
        "colab": {
          "base_uri": "https://localhost:8080/",
          "height": 51
        }
      },
      "source": [
        "get_response_by_generatively('Ты кто')"
      ],
      "execution_count": 63,
      "outputs": [
        {
          "output_type": "stream",
          "text": [
            "[['ты что же собирался убить ее', 'разумеется за то что она убила тебя']] 2\n"
          ],
          "name": "stdout"
        },
        {
          "output_type": "execute_result",
          "data": {
            "text/plain": [
              "('ты что же собирался убить ее', 'разумеется за то что она убила тебя')"
            ]
          },
          "metadata": {
            "tags": []
          },
          "execution_count": 63
        }
      ]
    },
    {
      "cell_type": "code",
      "metadata": {
        "id": "86ukDqjJcphP"
      },
      "source": [
        "get_response_by_generatively('Твой пол?')"
      ],
      "execution_count": 44,
      "outputs": []
    },
    {
      "cell_type": "code",
      "metadata": {
        "id": "X543v_FXdZd2",
        "outputId": "d4700efb-cab1-45eb-a605-3e5e2bdb0778",
        "colab": {
          "base_uri": "https://localhost:8080/",
          "height": 68
        }
      },
      "source": [
        "get_response_by_generatively('Офигеть. я тебя сотру.')"
      ],
      "execution_count": 64,
      "outputs": [
        {
          "output_type": "stream",
          "text": [
            "[['офигеть хочу быть шаманом', 'ты и так вполне шаман маг-то из тебя все равно никакой']] 7\n"
          ],
          "name": "stdout"
        },
        {
          "output_type": "execute_result",
          "data": {
            "text/plain": [
              "('офигеть хочу быть шаманом',\n",
              " 'ты и так вполне шаман маг-то из тебя все равно никакой')"
            ]
          },
          "metadata": {
            "tags": []
          },
          "execution_count": 64
        }
      ]
    }
  ]
}