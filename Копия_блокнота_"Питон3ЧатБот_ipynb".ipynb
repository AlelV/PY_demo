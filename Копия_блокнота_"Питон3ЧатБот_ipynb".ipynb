{
  "nbformat": 4,
  "nbformat_minor": 0,
  "metadata": {
    "colab": {
      "name": "Копия блокнота \"Питон3ЧатБот.ipynb\"",
      "provenance": [],
      "collapsed_sections": [],
      "include_colab_link": true
    },
    "kernelspec": {
      "name": "python3",
      "display_name": "Python 3"
    }
  },
  "cells": [
    {
      "cell_type": "markdown",
      "metadata": {
        "id": "view-in-github",
        "colab_type": "text"
      },
      "source": [
        "<a href=\"https://colab.research.google.com/github/AlelV/PY_demo/blob/master/%D0%9A%D0%BE%D0%BF%D0%B8%D1%8F_%D0%B1%D0%BB%D0%BE%D0%BA%D0%BD%D0%BE%D1%82%D0%B0_%22%D0%9F%D0%B8%D1%82%D0%BE%D0%BD3%D0%A7%D0%B0%D1%82%D0%91%D0%BE%D1%82_ipynb%22.ipynb\" target=\"_parent\"><img src=\"https://colab.research.google.com/assets/colab-badge.svg\" alt=\"Open In Colab\"/></a>"
      ]
    },
    {
      "cell_type": "code",
      "metadata": {
        "id": "UxIk10D6siSL",
        "colab_type": "code",
        "colab": {}
      },
      "source": [
        "import random"
      ],
      "execution_count": 1,
      "outputs": []
    },
    {
      "cell_type": "code",
      "metadata": {
        "id": "6xNHxhxBiDT3",
        "colab_type": "code",
        "colab": {}
      },
      "source": [
        "BOT_CONFIG: {\n",
        "    'intents':{\n",
        "      'hello':{\n",
        "        'examples':['Привет'],\n",
        "        'response':['Здарова','Здарова-корова','Привет, чел','Здравствуй, человек']\n",
        "   },\n",
        "      'by':{\n",
        "        'examples':['Пока'],\n",
        "        'response':['Давай']\n",
        "   },\n",
        "      'failure_phrase':['Ничего не понятно','Уточните, пжста','Я устал','Отвали']\n",
        "}}"
      ],
      "execution_count": 2,
      "outputs": []
    },
    {
      "cell_type": "code",
      "metadata": {
        "id": "xOQOwRrilUPU",
        "colab_type": "code",
        "colab": {}
      },
      "source": [
        ""
      ],
      "execution_count": null,
      "outputs": []
    },
    {
      "cell_type": "code",
      "metadata": {
        "id": "WjeroLGWjWUK",
        "colab_type": "code",
        "colab": {}
      },
      "source": [
        "def bot(request):\n",
        "  intent = get_intent(request)\n",
        "  if intent:\n",
        "    return get_response_by_intent(intent)\n",
        "    \n",
        "  response = get_response_by_generatively(request)\n",
        "  if response:\n",
        "    return response\n",
        "\n",
        "  return get_failure_phrase()   \n"
      ],
      "execution_count": 10,
      "outputs": []
    },
    {
      "cell_type": "code",
      "metadata": {
        "id": "CCgdoGNIjbBG",
        "colab_type": "code",
        "colab": {}
      },
      "source": [
        "def get_intent(text):\n",
        "\n",
        "  for intent, intent_data in BOT_CONFIG('intents').items():\n",
        "    for examle in intent_data['examples']:\n",
        "      print(example)\n",
        "      if text == example: \n",
        "        return intent  \n",
        "  \n",
        "\n",
        "  "
      ],
      "execution_count": 12,
      "outputs": []
    },
    {
      "cell_type": "code",
      "metadata": {
        "id": "CTZsklCdFzpK",
        "colab_type": "code",
        "colab": {}
      },
      "source": [
        "def clear_text(text):\n",
        "  alp='йцукенгшщзхъэждлорпавыфячсмитьбю0123456789- '\n",
        "  #for c in text:\n",
        "  return\n"
      ],
      "execution_count": 15,
      "outputs": []
    },
    {
      "cell_type": "code",
      "metadata": {
        "id": "LZ0qCS4sptCk",
        "colab_type": "code",
        "colab": {}
      },
      "source": [
        "def get_response_by_intent(intent):\n",
        "  phrases = BOT_CONFIG['intents'][intent]['response']\n",
        "  return random.choice(phrases)"
      ],
      "execution_count": null,
      "outputs": []
    },
    {
      "cell_type": "code",
      "metadata": {
        "id": "m67_TP_2pWuP",
        "colab_type": "code",
        "colab": {}
      },
      "source": [
        "def get_response_by_generatively(request):\n",
        "  return\n"
      ],
      "execution_count": null,
      "outputs": []
    },
    {
      "cell_type": "markdown",
      "metadata": {
        "id": "iNOsus7kmYA5",
        "colab_type": "text"
      },
      "source": [
        ""
      ]
    },
    {
      "cell_type": "code",
      "metadata": {
        "id": "Y1moSrnLq6hm",
        "colab_type": "code",
        "colab": {}
      },
      "source": [
        "def get_failure_phrase():\n",
        "  phrases = BOT_CONFIG['failure_phrase']\n",
        "  return random.choice(phrases)\n",
        "   \n",
        "  "
      ],
      "execution_count": null,
      "outputs": []
    },
    {
      "cell_type": "code",
      "metadata": {
        "id": "WsEKcsSsvotK",
        "colab_type": "code",
        "colab": {
          "base_uri": "https://localhost:8080/",
          "height": 306
        },
        "outputId": "2a22e312-ee0e-40c5-8d8f-42a7e78e6231"
      },
      "source": [
        "bot('Привет')"
      ],
      "execution_count": 16,
      "outputs": [
        {
          "output_type": "error",
          "ename": "NameError",
          "evalue": "ignored",
          "traceback": [
            "\u001b[0;31m---------------------------------------------------------------------------\u001b[0m",
            "\u001b[0;31mNameError\u001b[0m                                 Traceback (most recent call last)",
            "\u001b[0;32m<ipython-input-16-5d194cc05074>\u001b[0m in \u001b[0;36m<module>\u001b[0;34m()\u001b[0m\n\u001b[0;32m----> 1\u001b[0;31m \u001b[0mbot\u001b[0m\u001b[0;34m(\u001b[0m\u001b[0;34m'Привет'\u001b[0m\u001b[0;34m)\u001b[0m\u001b[0;34m\u001b[0m\u001b[0;34m\u001b[0m\u001b[0m\n\u001b[0m",
            "\u001b[0;32m<ipython-input-10-edbd70d52224>\u001b[0m in \u001b[0;36mbot\u001b[0;34m(request)\u001b[0m\n\u001b[1;32m      1\u001b[0m \u001b[0;32mdef\u001b[0m \u001b[0mbot\u001b[0m\u001b[0;34m(\u001b[0m\u001b[0mrequest\u001b[0m\u001b[0;34m)\u001b[0m\u001b[0;34m:\u001b[0m\u001b[0;34m\u001b[0m\u001b[0;34m\u001b[0m\u001b[0m\n\u001b[0;32m----> 2\u001b[0;31m   \u001b[0mintent\u001b[0m \u001b[0;34m=\u001b[0m \u001b[0mget_intent\u001b[0m\u001b[0;34m(\u001b[0m\u001b[0mrequest\u001b[0m\u001b[0;34m)\u001b[0m\u001b[0;34m\u001b[0m\u001b[0;34m\u001b[0m\u001b[0m\n\u001b[0m\u001b[1;32m      3\u001b[0m   \u001b[0;32mif\u001b[0m \u001b[0mintent\u001b[0m\u001b[0;34m:\u001b[0m\u001b[0;34m\u001b[0m\u001b[0;34m\u001b[0m\u001b[0m\n\u001b[1;32m      4\u001b[0m     \u001b[0;32mreturn\u001b[0m \u001b[0mget_response_by_intent\u001b[0m\u001b[0;34m(\u001b[0m\u001b[0mintent\u001b[0m\u001b[0;34m)\u001b[0m\u001b[0;34m\u001b[0m\u001b[0;34m\u001b[0m\u001b[0m\n\u001b[1;32m      5\u001b[0m \u001b[0;34m\u001b[0m\u001b[0m\n",
            "\u001b[0;32m<ipython-input-12-6122a0290c01>\u001b[0m in \u001b[0;36mget_intent\u001b[0;34m(text)\u001b[0m\n\u001b[1;32m      1\u001b[0m \u001b[0;32mdef\u001b[0m \u001b[0mget_intent\u001b[0m\u001b[0;34m(\u001b[0m\u001b[0mtext\u001b[0m\u001b[0;34m)\u001b[0m\u001b[0;34m:\u001b[0m\u001b[0;34m\u001b[0m\u001b[0;34m\u001b[0m\u001b[0m\n\u001b[1;32m      2\u001b[0m \u001b[0;34m\u001b[0m\u001b[0m\n\u001b[0;32m----> 3\u001b[0;31m   \u001b[0;32mfor\u001b[0m \u001b[0mintent\u001b[0m\u001b[0;34m,\u001b[0m \u001b[0mintent_data\u001b[0m \u001b[0;32min\u001b[0m \u001b[0mBOT_CONFIG\u001b[0m\u001b[0;34m(\u001b[0m\u001b[0;34m'intents'\u001b[0m\u001b[0;34m)\u001b[0m\u001b[0;34m.\u001b[0m\u001b[0mitems\u001b[0m\u001b[0;34m(\u001b[0m\u001b[0;34m)\u001b[0m\u001b[0;34m:\u001b[0m\u001b[0;34m\u001b[0m\u001b[0;34m\u001b[0m\u001b[0m\n\u001b[0m\u001b[1;32m      4\u001b[0m     \u001b[0;32mfor\u001b[0m \u001b[0mexamle\u001b[0m \u001b[0;32min\u001b[0m \u001b[0mintent_data\u001b[0m\u001b[0;34m[\u001b[0m\u001b[0;34m'examples'\u001b[0m\u001b[0;34m]\u001b[0m\u001b[0;34m:\u001b[0m\u001b[0;34m\u001b[0m\u001b[0;34m\u001b[0m\u001b[0m\n\u001b[1;32m      5\u001b[0m       \u001b[0mprint\u001b[0m\u001b[0;34m(\u001b[0m\u001b[0mexample\u001b[0m\u001b[0;34m)\u001b[0m\u001b[0;34m\u001b[0m\u001b[0;34m\u001b[0m\u001b[0m\n",
            "\u001b[0;31mNameError\u001b[0m: name 'BOT_CONFIG' is not defined"
          ]
        }
      ]
    }
  ]
}