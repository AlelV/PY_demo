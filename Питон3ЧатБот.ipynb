{
  "nbformat": 4,
  "nbformat_minor": 0,
  "metadata": {
    "colab": {
      "name": "Питон3ЧатБот.ipynb",
      "provenance": [],
      "authorship_tag": "ABX9TyO8ImXNe5jtc8Yh4ai3Ngay",
      "include_colab_link": true
    },
    "kernelspec": {
      "name": "python3",
      "display_name": "Python 3"
    }
  },
  "cells": [
    {
      "cell_type": "markdown",
      "metadata": {
        "id": "view-in-github",
        "colab_type": "text"
      },
      "source": [
        "<a href=\"https://colab.research.google.com/github/AlelV/PY_demo/blob/master/%D0%9F%D0%B8%D1%82%D0%BE%D0%BD3%D0%A7%D0%B0%D1%82%D0%91%D0%BE%D1%82.ipynb\" target=\"_parent\"><img src=\"https://colab.research.google.com/assets/colab-badge.svg\" alt=\"Open In Colab\"/></a>"
      ]
    },
    {
      "cell_type": "code",
      "metadata": {
        "id": "UxIk10D6siSL",
        "colab_type": "code",
        "colab": {}
      },
      "source": [
        "import random"
      ],
      "execution_count": 1,
      "outputs": []
    },
    {
      "cell_type": "code",
      "metadata": {
        "id": "WjeroLGWjWUK",
        "colab_type": "code",
        "colab": {}
      },
      "source": [
        "def bot(request):\n",
        "  intent = get_intent(request)\n",
        "  if intent:\n",
        "    return get_response_by_intent(intent)\n",
        "    \n",
        "  response = get_response_by_generatively(request)\n",
        "  if response:\n",
        "    return response\n",
        "\n",
        "  return get_failure_phrase()   \n"
      ],
      "execution_count": null,
      "outputs": []
    },
    {
      "cell_type": "code",
      "metadata": {
        "id": "CCgdoGNIjbBG",
        "colab_type": "code",
        "colab": {}
      },
      "source": [
        "def get_intent(text):\n",
        "  return"
      ],
      "execution_count": null,
      "outputs": []
    },
    {
      "cell_type": "code",
      "metadata": {
        "id": "LZ0qCS4sptCk",
        "colab_type": "code",
        "colab": {}
      },
      "source": [
        "def get_response_by_intent(intent):\n",
        "  return"
      ],
      "execution_count": null,
      "outputs": []
    },
    {
      "cell_type": "code",
      "metadata": {
        "id": "m67_TP_2pWuP",
        "colab_type": "code",
        "colab": {}
      },
      "source": [
        "def get_response_by_generatively(request):\n",
        "  return\n"
      ],
      "execution_count": null,
      "outputs": []
    },
    {
      "cell_type": "code",
      "metadata": {
        "id": "Y1moSrnLq6hm",
        "colab_type": "code",
        "colab": {}
      },
      "source": [
        "def get_failure_phrase():\n",
        "  phrases = ['Ничего не понятно','Уточните, пжста','Я устал','Отвали']\n",
        "  return random.choice(phrases) \n",
        "  "
      ],
      "execution_count": null,
      "outputs": []
    },
    {
      "cell_type": "code",
      "metadata": {
        "id": "WsEKcsSsvotK",
        "colab_type": "code",
        "colab": {
          "base_uri": "https://localhost:8080/",
          "height": 35
        },
        "outputId": "4c58fdad-3a10-4d27-9b93-908e9065d824"
      },
      "source": [
        "bot('Hello')"
      ],
      "execution_count": null,
      "outputs": [
        {
          "output_type": "execute_result",
          "data": {
            "application/vnd.google.colaboratory.intrinsic+json": {
              "type": "string"
            },
            "text/plain": [
              "'Отвали'"
            ]
          },
          "metadata": {
            "tags": []
          },
          "execution_count": 38
        }
      ]
    }
  ]
}