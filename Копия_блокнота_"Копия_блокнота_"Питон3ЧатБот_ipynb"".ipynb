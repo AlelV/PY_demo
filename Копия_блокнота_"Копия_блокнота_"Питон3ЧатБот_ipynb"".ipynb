{
  "nbformat": 4,
  "nbformat_minor": 0,
  "metadata": {
    "colab": {
      "name": "Копия блокнота \"Копия блокнота \"Питон3ЧатБот.ipynb\"\"",
      "provenance": [],
      "collapsed_sections": [],
      "include_colab_link": true
    },
    "kernelspec": {
      "name": "python3",
      "display_name": "Python 3"
    }
  },
  "cells": [
    {
      "cell_type": "markdown",
      "metadata": {
        "id": "view-in-github",
        "colab_type": "text"
      },
      "source": [
        "<a href=\"https://colab.research.google.com/github/AlelV/PY_demo/blob/master/%D0%9A%D0%BE%D0%BF%D0%B8%D1%8F_%D0%B1%D0%BB%D0%BE%D0%BA%D0%BD%D0%BE%D1%82%D0%B0_%22%D0%9A%D0%BE%D0%BF%D0%B8%D1%8F_%D0%B1%D0%BB%D0%BE%D0%BA%D0%BD%D0%BE%D1%82%D0%B0_%22%D0%9F%D0%B8%D1%82%D0%BE%D0%BD3%D0%A7%D0%B0%D1%82%D0%91%D0%BE%D1%82_ipynb%22%22.ipynb\" target=\"_parent\"><img src=\"https://colab.research.google.com/assets/colab-badge.svg\" alt=\"Open In Colab\"/></a>"
      ]
    },
    {
      "cell_type": "code",
      "metadata": {
        "id": "UxIk10D6siSL",
        "colab_type": "code",
        "colab": {}
      },
      "source": [
        "import random\n",
        "import nltk"
      ],
      "execution_count": 96,
      "outputs": []
    },
    {
      "cell_type": "code",
      "metadata": {
        "id": "6xNHxhxBiDT3",
        "colab_type": "code",
        "colab": {}
      },
      "source": [
        "BOT_CONFIG = {\n",
        "    'intents':{\n",
        "      'hello':{\n",
        "        'examples':['Привет'],\n",
        "        'responses':['Здарова','Здарова-корова','Привет, чел','Здравствуй, человек']\n",
        "   },\n",
        "      'by':{\n",
        "        'examples':['Пока'],\n",
        "        'responses':['Давай']\n",
        "   },\n",
        "      'failure_phrases':['Ничего не понятно','Уточните, пжста','Я устал','Отвали']\n",
        "}}"
      ],
      "execution_count": 70,
      "outputs": []
    },
    {
      "cell_type": "code",
      "metadata": {
        "id": "xOQOwRrilUPU",
        "colab_type": "code",
        "colab": {}
      },
      "source": [
        ""
      ],
      "execution_count": null,
      "outputs": []
    },
    {
      "cell_type": "code",
      "metadata": {
        "id": "WjeroLGWjWUK",
        "colab_type": "code",
        "colab": {}
      },
      "source": [
        "def bot(request):\n",
        "  intent = get_intent(request)\n",
        "  if intent:\n",
        "    return get_response_by_intent(intent)\n",
        "    \n",
        "  response = get_response_by_generatively(request)\n",
        "  if response:\n",
        "    return response\n",
        "\n",
        "  return get_failure_phrase()   \n"
      ],
      "execution_count": 3,
      "outputs": []
    },
    {
      "cell_type": "code",
      "metadata": {
        "id": "CCgdoGNIjbBG",
        "colab_type": "code",
        "colab": {}
      },
      "source": [
        "def get_intent(text):\n",
        "  for intent, intent_data in BOT_CONFIG['intents'].items():\n",
        "\n",
        "     for example in intent_data['examples']:\n",
        "       text1 = clear_text(text);\n",
        "       example1 = clear_text(example);\n",
        "\n",
        "       distance = nltk.edit_distance(text1,example1)\n",
        "       print(text1,example1,distance)\n",
        "       if clear_text(text) == clear_text(example): \n",
        "        return intent        \n",
        "  "
      ],
      "execution_count": 98,
      "outputs": []
    },
    {
      "cell_type": "code",
      "metadata": {
        "id": "CTZsklCdFzpK",
        "colab_type": "code",
        "colab": {}
      },
      "source": [
        "def clear_text(text):\n",
        "  text=text.lower()\n",
        "  alph='йцукенгшщзхъэждлорпавыфячсмитьбю0123456789- '\n",
        "  result = ''\n",
        "  for c in text:\n",
        "    if c in alph:\n",
        "      result+=c\n",
        "  return result\n",
        "\n"
      ],
      "execution_count": 91,
      "outputs": []
    },
    {
      "cell_type": "code",
      "metadata": {
        "id": "LZ0qCS4sptCk",
        "colab_type": "code",
        "colab": {}
      },
      "source": [
        "def get_response_by_intent(intent):\n",
        "  phrases = BOT_CONFIG['intents'][intent]['responses']\n",
        "  return random.choice(phrases)"
      ],
      "execution_count": 66,
      "outputs": []
    },
    {
      "cell_type": "code",
      "metadata": {
        "id": "m67_TP_2pWuP",
        "colab_type": "code",
        "colab": {}
      },
      "source": [
        "def get_response_by_generatively(request):\n",
        "  return\n"
      ],
      "execution_count": 7,
      "outputs": []
    },
    {
      "cell_type": "code",
      "metadata": {
        "id": "Y1moSrnLq6hm",
        "colab_type": "code",
        "colab": {}
      },
      "source": [
        "def get_failure_phrase():\n",
        "  phrases = BOT_CONFIG['failure_phrases']\n",
        "  return random.choice(phrases)\n",
        "   \n",
        "  "
      ],
      "execution_count": 8,
      "outputs": []
    },
    {
      "cell_type": "code",
      "metadata": {
        "id": "WsEKcsSsvotK",
        "colab_type": "code",
        "colab": {
          "base_uri": "https://localhost:8080/",
          "height": 35
        },
        "outputId": "ab06c75d-7d30-41f0-dbc0-40dc1c87b00a"
      },
      "source": [
        "bot('пока!')"
      ],
      "execution_count": 95,
      "outputs": [
        {
          "output_type": "execute_result",
          "data": {
            "application/vnd.google.colaboratory.intrinsic+json": {
              "type": "string"
            },
            "text/plain": [
              "'Давай'"
            ]
          },
          "metadata": {
            "tags": []
          },
          "execution_count": 95
        }
      ]
    }
  ]
}